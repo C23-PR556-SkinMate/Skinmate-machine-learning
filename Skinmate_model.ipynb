{
  "cells": [
    {
      "cell_type": "code",
      "execution_count": null,
      "metadata": {
        "id": "ZkclPOMOs6eo"
      },
      "outputs": [],
      "source": [
        "import os\n",
        "import zipfile\n",
        "import random\n",
        "import shutil\n",
        "import tensorflow as tf\n",
        "from tensorflow.keras.preprocessing.image import ImageDataGenerator\n",
        "from shutil import copyfile\n",
        "from tensorflow import keras\n",
        "import matplotlib.pyplot as plt"
      ]
    },
    {
      "cell_type": "code",
      "execution_count": null,
      "metadata": {
        "colab": {
          "base_uri": "https://localhost:8080/"
        },
        "id": "IuZ2DkKmPrwR",
        "outputId": "8b0e9a47-ca82-4cde-8ce3-790a3ab69d2f"
      },
      "outputs": [
        {
          "name": "stdout",
          "output_type": "stream",
          "text": [
            "Mounted at /content/drive\n"
          ]
        }
      ],
      "source": [
        "\n",
        "#Download the dataset from gDrive\n",
        "from google.colab import drive\n",
        "drive.mount('/content/drive', force_remount=True)"
      ]
    },
    {
      "cell_type": "code",
      "execution_count": null,
      "metadata": {
        "id": "ZkPy6DG0t1yg"
      },
      "outputs": [],
      "source": [
        "zip_file = '/content/drive/Shareddrives/Capstone Project/ML/Data/dataset6.zip'\n",
        "zip_ref   = zipfile.ZipFile(zip_file, 'r')\n",
        "zip_ref.extractall('/content/drive/Shareddrives/Capstone Project/ML/Data/')\n",
        "zip_ref.close()"
      ]
    },
    {
      "cell_type": "code",
      "execution_count": null,
      "metadata": {
        "colab": {
          "base_uri": "https://localhost:8080/"
        },
        "id": "vnhPRagXk21K",
        "outputId": "547f4409-9e28-4684-b256-cc27ad25b892"
      },
      "outputs": [
        {
          "name": "stdout",
          "output_type": "stream",
          "text": [
            "There are 250 images of acnes.\n",
            "There are 250 images of blackheads.\n",
            "There are 250 images of darkspots.\n",
            "There are 250 images of wrinkles.\n"
          ]
        }
      ],
      "source": [
        "source = '/content/drive/Shareddrives/Capstone Project/ML/Data/dataset6/'\n",
        "sourceAcnes = os.path.join(source, 'acnes')\n",
        "sourceBlackheads = os.path.join(source, 'blackheads')\n",
        "sourceDarkSpots = os.path.join(source, 'darkspots')\n",
        "sourceWrinkles = os.path.join(source, 'wrinkles')\n",
        "\n",
        "print(f\"There are {len(os.listdir(sourceAcnes))} images of acnes.\")\n",
        "print(f\"There are {len(os.listdir(sourceBlackheads))} images of blackheads.\")\n",
        "print(f\"There are {len(os.listdir(sourceDarkSpots))} images of darkspots.\")\n",
        "print(f\"There are {len(os.listdir(sourceWrinkles))} images of wrinkles.\")"
      ]
    },
    {
      "cell_type": "code",
      "execution_count": null,
      "metadata": {
        "id": "l9uwc9URBIR9"
      },
      "outputs": [],
      "source": [
        "import os\n",
        "import shutil\n",
        "\n",
        "# Define root directory\n",
        "root_dir = '/content/drive/Shareddrives/Capstone Project/skin-case/'\n",
        "\n",
        "# Empty directory to prevent FileExistsError if the function is run several times\n",
        "if os.path.exists(root_dir):\n",
        "    shutil.rmtree(root_dir)\n",
        "\n",
        "# Create train and validation directories\n",
        "def create_train_val_dirs(root_path):\n",
        "    # train and validation directories for skin-case\n",
        "    train_dir = os.path.join(root_dir, 'training')\n",
        "    os.makedirs(train_dir, exist_ok=True)\n",
        "    val_dir = os.path.join(root_dir, 'validation')\n",
        "    os.makedirs(val_dir, exist_ok=True)\n",
        "\n",
        "    # train directories for acnes\n",
        "    train_acnes_dir = os.path.join(train_dir, 'acnes')\n",
        "    os.makedirs(train_acnes_dir, exist_ok=True)\n",
        "    # train directories for blackheads\n",
        "    train_blackheads_dir = os.path.join(train_dir, 'blackheads')\n",
        "    os.makedirs(train_blackheads_dir, exist_ok=True)\n",
        "    # train directories for darkspots\n",
        "    train_darkspots_dir = os.path.join(train_dir, 'darkspots')\n",
        "    os.makedirs(train_darkspots_dir, exist_ok=True)\n",
        "    # train directories for wrinkles\n",
        "    train_wrinkles_dir = os.path.join(train_dir, 'wrinkles')\n",
        "    os.makedirs(train_wrinkles_dir, exist_ok=True)\n",
        "\n",
        "    # validation directories for acnes\n",
        "    val_acnes_dir = os.path.join(val_dir, 'acnes')\n",
        "    os.makedirs(val_acnes_dir, exist_ok=True)\n",
        "    # validation directories for blackheads\n",
        "    val_blackheads_dir = os.path.join(val_dir, 'blackheads')\n",
        "    os.makedirs(val_blackheads_dir, exist_ok=True)\n",
        "    # validation directories for darkspots\n",
        "    val_darkspots_dir = os.path.join(val_dir, 'darkspots')\n",
        "    os.makedirs(val_darkspots_dir, exist_ok=True)\n",
        "    # validation directories for wrinkles\n",
        "    val_wrinkles_dir = os.path.join(val_dir, 'wrinkles')\n",
        "    os.makedirs(val_wrinkles_dir, exist_ok=True)\n",
        "\n",
        "try:\n",
        "    create_train_val_dirs(root_path=root_dir)\n",
        "except FileExistsError:\n",
        "    print(\"You should not be seeing this since the upper directory is removed beforehand\")\n",
        "\n",
        "# Print all directories\n",
        "#for rootdir, dirs, files in os.walk(root_dir):\n",
        "#    for subdir in dirs:\n",
        "#        print(os.path.join(rootdir, subdir))"
      ]
    },
    {
      "cell_type": "code",
      "execution_count": null,
      "metadata": {
        "id": "azYuowBqdF5m"
      },
      "outputs": [],
      "source": [
        "def split_data(SOURCE_DIR, TRAINING_DIR, VALIDATION_DIR, SPLIT_SIZE):\n",
        "  files = []\n",
        "  for filename in os.listdir(SOURCE_DIR):\n",
        "    file = SOURCE_DIR + filename\n",
        "    if os.path.getsize(file) > 0:\n",
        "      files.append(filename)\n",
        "    else:\n",
        "      print(filename + ' is zero length, so ignoring.')\n",
        "\n",
        "    all_files = len(files)\n",
        "    train_length = int(all_files * SPLIT_SIZE)\n",
        "    test_length = int(all_files - train_length)\n",
        "    shuffled = random.sample(files, all_files)\n",
        "    train_set = shuffled[0:train_length]\n",
        "    test_set = shuffled[train_length:]\n",
        "\n",
        "  for filename in train_set:\n",
        "    src_file = SOURCE_DIR + filename\n",
        "    dest_file = TRAINING_DIR + filename\n",
        "    copyfile(src_file, dest_file)\n",
        "\n",
        "  for filename in test_set:\n",
        "    src_file = SOURCE_DIR + filename\n",
        "    dest_file = VALIDATION_DIR + filename\n",
        "    copyfile(src_file, dest_file)\n",
        "\n",
        "  pass"
      ]
    },
    {
      "cell_type": "code",
      "execution_count": null,
      "metadata": {
        "id": "BZxvS6uucZE6"
      },
      "outputs": [],
      "source": [
        "# Test your split_data function\n",
        "\n",
        "# Define paths\n",
        "ACNES_SOURCE_DIR = \"/content/drive/Shareddrives/Capstone Project/ML/Data/dataset6/acnes/\"\n",
        "BLACKHEADS_SOURCE_DIR = \"/content/drive/Shareddrives/Capstone Project/ML/Data/dataset6/blackheads/\"\n",
        "DARKSPOTS_SOURCE_DIR = \"/content/drive/Shareddrives/Capstone Project/ML/Data/dataset6/darkspots/\"\n",
        "WRINKLES_SOURCE_DIR = \"/content/drive/Shareddrives/Capstone Project/ML/Data/dataset6/wrinkles/\"\n",
        "\n",
        "TRAINING_DIR = \"/content/drive/Shareddrives/Capstone Project/skin-case/training\"\n",
        "VALIDATION_DIR = \"/content/drive/Shareddrives/Capstone Project/skin-case/validation\"\n",
        "\n",
        "TRAINING_ACNES_DIR = os.path.join(TRAINING_DIR, \"acnes/\")\n",
        "VALIDATION_ACNES_DIR = os.path.join(VALIDATION_DIR, \"acnes/\")\n",
        "\n",
        "TRAINING_BLACKHEADS_DIR = os.path.join(TRAINING_DIR, \"blackheads/\")\n",
        "VALIDATION_BLACKHEADS_DIR = os.path.join(VALIDATION_DIR, \"blackheads/\")\n",
        "\n",
        "TRAINING_DARKSPOTS_DIR = os.path.join(TRAINING_DIR, \"darkspots/\")\n",
        "VALIDATION_DARKSPOTS_DIR = os.path.join(VALIDATION_DIR, \"darkspots/\")\n",
        "\n",
        "TRAINING_WRINKLES_DIR = os.path.join(TRAINING_DIR, \"wrinkles/\")\n",
        "VALIDATION_WRINKLES_DIR = os.path.join(VALIDATION_DIR, \"wrinkles/\")\n",
        "\n",
        "# Empty directories in case you run this cell multiple times\n",
        "if len(os.listdir(TRAINING_WRINKLES_DIR)) > 0:\n",
        "  for file in os.scandir(TRAINING_WRINKLES_DIR):\n",
        "    os.remove(file.path)\n",
        "\n",
        "if len(os.listdir(VALIDATION_WRINKLES_DIR)) > 0:\n",
        "  for file in os.scandir(VALIDATION_WRINKLES_DIR):\n",
        "    os.remove(file.path)\n",
        "\n",
        "# Define proportion of images used for training\n",
        "split_size = .8\n"
      ]
    },
    {
      "cell_type": "code",
      "execution_count": null,
      "metadata": {
        "colab": {
          "base_uri": "https://localhost:8080/"
        },
        "id": "6CrsEhiQ2REI",
        "outputId": "3b507a39-4589-46d1-c1a1-1e8e9515f336"
      },
      "outputs": [
        {
          "name": "stdout",
          "output_type": "stream",
          "text": [
            "\n",
            "\n",
            "Original acne's directory has 250 images\n",
            "\n",
            "\n",
            "Original blackhead's directory has 250 images\n",
            "\n",
            "\n",
            "Original darkspot's directory has 250 images\n",
            "\n",
            "\n",
            "Original winkle's directory has 250 images\n",
            "\n",
            "\n",
            "There are 200 images of acnes for training\n",
            "\n",
            "\n",
            "There are 50 images of acnes for validation\n",
            "\n",
            "\n",
            "There are 200 images of blackheads for training\n",
            "\n",
            "\n",
            "There are 50 images of blackheads for validation\n",
            "\n",
            "\n",
            "There are 200 images of darkspots for training\n",
            "\n",
            "\n",
            "There are 50 images of darkspots for validation\n",
            "\n",
            "\n",
            "There are 200 images of wrinkles for training\n",
            "\n",
            "\n",
            "There are 50 images of wrinkles for validation\n"
          ]
        }
      ],
      "source": [
        "# Run the function\n",
        "# NOTE: Messages about zero length images should be printed out\n",
        "split_data(ACNES_SOURCE_DIR, TRAINING_ACNES_DIR, VALIDATION_ACNES_DIR, split_size)\n",
        "split_data(BLACKHEADS_SOURCE_DIR, TRAINING_BLACKHEADS_DIR, VALIDATION_BLACKHEADS_DIR, split_size)\n",
        "split_data(DARKSPOTS_SOURCE_DIR, TRAINING_DARKSPOTS_DIR, VALIDATION_DARKSPOTS_DIR, split_size)\n",
        "split_data(WRINKLES_SOURCE_DIR, TRAINING_WRINKLES_DIR, VALIDATION_WRINKLES_DIR, split_size)\n",
        "\n",
        "print(f\"\\n\\nOriginal acne's directory has {len(os.listdir(ACNES_SOURCE_DIR))} images\")\n",
        "print(f\"\\n\\nOriginal blackhead's directory has {len(os.listdir(BLACKHEADS_SOURCE_DIR))} images\")\n",
        "print(f\"\\n\\nOriginal darkspot's directory has {len(os.listdir(DARKSPOTS_SOURCE_DIR))} images\")\n",
        "print(f\"\\n\\nOriginal winkle's directory has {len(os.listdir(WRINKLES_SOURCE_DIR))} images\")\n",
        "print(f\"\\n\\nThere are {len(os.listdir(TRAINING_WRINKLES_DIR))} images of acnes for training\")\n",
        "print(f\"\\n\\nThere are {len(os.listdir(VALIDATION_WRINKLES_DIR))} images of acnes for validation\")\n",
        "print(f\"\\n\\nThere are {len(os.listdir(TRAINING_BLACKHEADS_DIR))} images of blackheads for training\")\n",
        "print(f\"\\n\\nThere are {len(os.listdir(VALIDATION_BLACKHEADS_DIR))} images of blackheads for validation\")\n",
        "print(f\"\\n\\nThere are {len(os.listdir(TRAINING_DARKSPOTS_DIR))} images of darkspots for training\")\n",
        "print(f\"\\n\\nThere are {len(os.listdir(VALIDATION_DARKSPOTS_DIR))} images of darkspots for validation\")\n",
        "print(f\"\\n\\nThere are {len(os.listdir(TRAINING_WRINKLES_DIR))} images of wrinkles for training\")\n",
        "print(f\"\\n\\nThere are {len(os.listdir(VALIDATION_WRINKLES_DIR))} images of wrinkles for validation\")"
      ]
    },
    {
      "cell_type": "code",
      "execution_count": null,
      "metadata": {
        "id": "cu0Cq9Wi_wrn"
      },
      "outputs": [],
      "source": [
        "def train_val_generators(TRAINING_DIR, VALIDATION_DIR):\n",
        "  \"\"\"\n",
        "  Creates the training and validation data generators\n",
        "\n",
        "  Args:\n",
        "    TRAINING_DIR (string): directory path containing the training images\n",
        "    VALIDATION_DIR (string): directory path containing the testing/validation images\n",
        "\n",
        "  Returns:\n",
        "    train_generator, validation_generator - tuple containing the generators\n",
        "  \"\"\"\n",
        "  ### START CODE HERE\n",
        "\n",
        "  # Instantiate the ImageDataGenerator class (don't forget to set the arguments to augment the images)\n",
        "  train_datagen = ImageDataGenerator(rescale=1./255.,\n",
        "                                     rotation_range=40,\n",
        "                                     width_shift_range=0.2,\n",
        "                                     height_shift_range=0.2,\n",
        "                                     shear_range=0.2,\n",
        "                                     zoom_range=0.2,\n",
        "                                     horizontal_flip=True,\n",
        "                                     fill_mode='nearest')\n",
        "\n",
        "  # Pass in the appropriate arguments to the flow_from_directory method\n",
        "  train_generator = train_datagen.flow_from_directory(directory=TRAINING_DIR,\n",
        "                                                      batch_size=32,\n",
        "                                                      class_mode='categorical',\n",
        "                                                      target_size=(150, 150))\n",
        "\n",
        "  # Instantiate the ImageDataGenerator class (don't forget to set the rescale argument)\n",
        "  validation_datagen = ImageDataGenerator(rescale=1./255.)\n",
        "\n",
        "  # Pass in the appropriate arguments to the flow_from_directory method\n",
        "  validation_generator = validation_datagen.flow_from_directory(directory=VALIDATION_DIR,\n",
        "                                                                batch_size=32,\n",
        "                                                                class_mode='categorical',\n",
        "                                                                target_size=(150, 150))\n",
        "  ### END CODE HERE\n",
        "  return train_generator, validation_generator"
      ]
    },
    {
      "cell_type": "code",
      "execution_count": null,
      "metadata": {
        "colab": {
          "base_uri": "https://localhost:8080/"
        },
        "id": "ZHelvmASFctG",
        "outputId": "2ad96817-ba5e-4584-edd9-857d24b7b9d1"
      },
      "outputs": [
        {
          "name": "stdout",
          "output_type": "stream",
          "text": [
            "Found 800 images belonging to 4 classes.\n",
            "Found 200 images belonging to 4 classes.\n"
          ]
        }
      ],
      "source": [
        "# Test your generators\n",
        "train_generator, validation_generator = train_val_generators(TRAINING_DIR, VALIDATION_DIR)"
      ]
    },
    {
      "cell_type": "code",
      "execution_count": null,
      "metadata": {
        "id": "Toz7o1iwCcdO"
      },
      "outputs": [],
      "source": [
        "# Define a Callback class that stops training once accuracy reaches 90.0%\n",
        "class myCallback(tf.keras.callbacks.Callback):\n",
        "  def on_epoch_end(self, epoch, logs={}):\n",
        "    if(logs.get('val_acc')>0.90):\n",
        "      print(\"\\nReached 90.0% accuracy so cancelling training!\")\n",
        "      self.model.stop_training = True"
      ]
    },
    {
      "cell_type": "code",
      "execution_count": null,
      "metadata": {
        "id": "qN95KqkcB7Oa"
      },
      "outputs": [],
      "source": [
        "\n",
        "def create_model():\n",
        "\n",
        "  model = tf.keras.models.Sequential([\n",
        "      # Conv2D and MaxPooling2D layers\n",
        "      tf.keras.layers.Conv2D(16, (3,3), activation='relu', input_shape=(150,150,3)),\n",
        "      tf.keras.layers.MaxPooling2D(2,2),\n",
        "\n",
        "      #tf.keras.layers.Conv2D(32, (3,3), activation='relu'),\n",
        "      #tf.keras.layers.MaxPooling2D(2,2),\n",
        "\n",
        "      tf.keras.layers.Conv2D(32, (3,3), activation='relu'),\n",
        "      tf.keras.layers.MaxPooling2D(2,2),\n",
        "\n",
        "      tf.keras.layers.Conv2D(64, (3,3), activation='relu'),\n",
        "      tf.keras.layers.MaxPooling2D(2,2),\n",
        "\n",
        "      #tf.keras.layers.Conv2D(128, (3,3), activation='relu'),\n",
        "      #tf.keras.layers.MaxPooling2D(2,2),\n",
        "\n",
        "\n",
        "      tf.keras.layers.Flatten(),\n",
        "\n",
        "      #tf.keras.layers.Dropout(0.2),\n",
        "\n",
        "      #tf.keras.layers.Dense(128, activation='relu'),\n",
        "      tf.keras.layers.Dense(512, activation='relu'),\n",
        "      tf.keras.layers.Dense(64, activation='relu'),\n",
        "      tf.keras.layers.Dense(4, activation='sigmoid')\n",
        "  ])\n",
        "\n",
        "\n",
        "  model.compile(optimizer=tf.keras.optimizers.Adam(learning_rate=0.001),\n",
        "                loss='binary_crossentropy',\n",
        "                metrics=['acc'])\n",
        "\n",
        "  return model"
      ]
    },
    {
      "cell_type": "code",
      "execution_count": null,
      "metadata": {
        "colab": {
          "base_uri": "https://localhost:8080/"
        },
        "id": "WmtOu9kyFMV4",
        "outputId": "8efefbea-1819-41d9-bb64-c11d9f11f2c5"
      },
      "outputs": [
        {
          "name": "stdout",
          "output_type": "stream",
          "text": [
            "Model: \"sequential\"\n",
            "_________________________________________________________________\n",
            " Layer (type)                Output Shape              Param #   \n",
            "=================================================================\n",
            " conv2d (Conv2D)             (None, 148, 148, 16)      448       \n",
            "                                                                 \n",
            " max_pooling2d (MaxPooling2D  (None, 74, 74, 16)       0         \n",
            " )                                                               \n",
            "                                                                 \n",
            " conv2d_1 (Conv2D)           (None, 72, 72, 32)        4640      \n",
            "                                                                 \n",
            " max_pooling2d_1 (MaxPooling  (None, 36, 36, 32)       0         \n",
            " 2D)                                                             \n",
            "                                                                 \n",
            " conv2d_2 (Conv2D)           (None, 34, 34, 64)        18496     \n",
            "                                                                 \n",
            " max_pooling2d_2 (MaxPooling  (None, 17, 17, 64)       0         \n",
            " 2D)                                                             \n",
            "                                                                 \n",
            " flatten (Flatten)           (None, 18496)             0         \n",
            "                                                                 \n",
            " dense (Dense)               (None, 512)               9470464   \n",
            "                                                                 \n",
            " dense_1 (Dense)             (None, 64)                32832     \n",
            "                                                                 \n",
            " dense_2 (Dense)             (None, 4)                 260       \n",
            "                                                                 \n",
            "=================================================================\n",
            "Total params: 9,527,140\n",
            "Trainable params: 9,527,140\n",
            "Non-trainable params: 0\n",
            "_________________________________________________________________\n"
          ]
        }
      ],
      "source": [
        "# Get the untrained model\n",
        "model = create_model()\n",
        "\n",
        "model.summary()"
      ]
    },
    {
      "cell_type": "code",
      "execution_count": null,
      "metadata": {
        "colab": {
          "background_save": true,
          "base_uri": "https://localhost:8080/"
        },
        "id": "7Dbq49-t44Pq",
        "outputId": "ead6bdae-c9bc-47f2-efb7-94205a5c1248"
      },
      "outputs": [
        {
          "name": "stdout",
          "output_type": "stream",
          "text": [
            "Epoch 1/100\n",
            "25/25 - 35s - loss: 0.4605 - acc: 0.4412 - val_loss: 0.3694 - val_acc: 0.5250 - 35s/epoch - 1s/step\n",
            "Epoch 2/100\n",
            "25/25 - 33s - loss: 0.3746 - acc: 0.5475 - val_loss: 0.4076 - val_acc: 0.5350 - 33s/epoch - 1s/step\n",
            "Epoch 3/100\n",
            "25/25 - 33s - loss: 0.3714 - acc: 0.5688 - val_loss: 0.3471 - val_acc: 0.6200 - 33s/epoch - 1s/step\n",
            "Epoch 4/100\n",
            "25/25 - 33s - loss: 0.3669 - acc: 0.5775 - val_loss: 0.3450 - val_acc: 0.5700 - 33s/epoch - 1s/step\n",
            "Epoch 5/100\n",
            "25/25 - 33s - loss: 0.3307 - acc: 0.6125 - val_loss: 0.3072 - val_acc: 0.6500 - 33s/epoch - 1s/step\n",
            "Epoch 6/100\n",
            "25/25 - 32s - loss: 0.3178 - acc: 0.6862 - val_loss: 0.2818 - val_acc: 0.7000 - 32s/epoch - 1s/step\n",
            "Epoch 7/100\n",
            "25/25 - 32s - loss: 0.3054 - acc: 0.7013 - val_loss: 0.2538 - val_acc: 0.7600 - 32s/epoch - 1s/step\n",
            "Epoch 8/100\n",
            "25/25 - 33s - loss: 0.2832 - acc: 0.7125 - val_loss: 0.2412 - val_acc: 0.7650 - 33s/epoch - 1s/step\n",
            "Epoch 9/100\n",
            "25/25 - 32s - loss: 0.2730 - acc: 0.7362 - val_loss: 0.2609 - val_acc: 0.7000 - 32s/epoch - 1s/step\n",
            "Epoch 10/100\n",
            "25/25 - 32s - loss: 0.2644 - acc: 0.7525 - val_loss: 0.2635 - val_acc: 0.7500 - 32s/epoch - 1s/step\n",
            "Epoch 11/100\n",
            "25/25 - 34s - loss: 0.2572 - acc: 0.7675 - val_loss: 0.2755 - val_acc: 0.7550 - 34s/epoch - 1s/step\n",
            "Epoch 12/100\n",
            "25/25 - 31s - loss: 0.2558 - acc: 0.7513 - val_loss: 0.2539 - val_acc: 0.7800 - 31s/epoch - 1s/step\n",
            "Epoch 13/100\n",
            "25/25 - 31s - loss: 0.2536 - acc: 0.7625 - val_loss: 0.2219 - val_acc: 0.8050 - 31s/epoch - 1s/step\n",
            "Epoch 14/100\n",
            "25/25 - 32s - loss: 0.2410 - acc: 0.7725 - val_loss: 0.2210 - val_acc: 0.8100 - 32s/epoch - 1s/step\n",
            "Epoch 15/100\n",
            "25/25 - 31s - loss: 0.2546 - acc: 0.7763 - val_loss: 0.2139 - val_acc: 0.7950 - 31s/epoch - 1s/step\n",
            "Epoch 16/100\n",
            "25/25 - 33s - loss: 0.2318 - acc: 0.7950 - val_loss: 0.2479 - val_acc: 0.7550 - 33s/epoch - 1s/step\n",
            "Epoch 17/100\n",
            "25/25 - 31s - loss: 0.2422 - acc: 0.7725 - val_loss: 0.2170 - val_acc: 0.8400 - 31s/epoch - 1s/step\n",
            "Epoch 18/100\n",
            "25/25 - 31s - loss: 0.2192 - acc: 0.8075 - val_loss: 0.1984 - val_acc: 0.8450 - 31s/epoch - 1s/step\n",
            "Epoch 19/100\n",
            "25/25 - 34s - loss: 0.2067 - acc: 0.8263 - val_loss: 0.1967 - val_acc: 0.8350 - 34s/epoch - 1s/step\n",
            "Epoch 20/100\n",
            "25/25 - 33s - loss: 0.2122 - acc: 0.8075 - val_loss: 0.1979 - val_acc: 0.8400 - 33s/epoch - 1s/step\n",
            "Epoch 21/100\n",
            "25/25 - 34s - loss: 0.2066 - acc: 0.8213 - val_loss: 0.1883 - val_acc: 0.8300 - 34s/epoch - 1s/step\n",
            "Epoch 22/100\n",
            "25/25 - 32s - loss: 0.2062 - acc: 0.8087 - val_loss: 0.1842 - val_acc: 0.8600 - 32s/epoch - 1s/step\n",
            "Epoch 23/100\n",
            "25/25 - 33s - loss: 0.2056 - acc: 0.8125 - val_loss: 0.1998 - val_acc: 0.8200 - 33s/epoch - 1s/step\n",
            "Epoch 24/100\n",
            "25/25 - 33s - loss: 0.1838 - acc: 0.8575 - val_loss: 0.1930 - val_acc: 0.8500 - 33s/epoch - 1s/step\n",
            "Epoch 25/100\n",
            "25/25 - 32s - loss: 0.1938 - acc: 0.8300 - val_loss: 0.2388 - val_acc: 0.7850 - 32s/epoch - 1s/step\n",
            "Epoch 26/100\n",
            "25/25 - 31s - loss: 0.1807 - acc: 0.8450 - val_loss: 0.1849 - val_acc: 0.8450 - 31s/epoch - 1s/step\n",
            "Epoch 27/100\n",
            "25/25 - 34s - loss: 0.1798 - acc: 0.8363 - val_loss: 0.1859 - val_acc: 0.8550 - 34s/epoch - 1s/step\n",
            "Epoch 28/100\n",
            "25/25 - 32s - loss: 0.2005 - acc: 0.8138 - val_loss: 0.1748 - val_acc: 0.8600 - 32s/epoch - 1s/step\n",
            "Epoch 29/100\n",
            "25/25 - 33s - loss: 0.1856 - acc: 0.8300 - val_loss: 0.2358 - val_acc: 0.7950 - 33s/epoch - 1s/step\n",
            "Epoch 30/100\n",
            "25/25 - 31s - loss: 0.1757 - acc: 0.8425 - val_loss: 0.1597 - val_acc: 0.8600 - 31s/epoch - 1s/step\n",
            "Epoch 31/100\n",
            "25/25 - 31s - loss: 0.1766 - acc: 0.8450 - val_loss: 0.2612 - val_acc: 0.7900 - 31s/epoch - 1s/step\n",
            "Epoch 32/100\n",
            "25/25 - 31s - loss: 0.1782 - acc: 0.8475 - val_loss: 0.1701 - val_acc: 0.8700 - 31s/epoch - 1s/step\n",
            "Epoch 33/100\n",
            "25/25 - 31s - loss: 0.1743 - acc: 0.8462 - val_loss: 0.1705 - val_acc: 0.8750 - 31s/epoch - 1s/step\n",
            "Epoch 34/100\n",
            "25/25 - 31s - loss: 0.1779 - acc: 0.8487 - val_loss: 0.1636 - val_acc: 0.8600 - 31s/epoch - 1s/step\n",
            "Epoch 35/100\n",
            "25/25 - 33s - loss: 0.1689 - acc: 0.8587 - val_loss: 0.1663 - val_acc: 0.8300 - 33s/epoch - 1s/step\n",
            "Epoch 36/100\n",
            "25/25 - 31s - loss: 0.1706 - acc: 0.8537 - val_loss: 0.1748 - val_acc: 0.8550 - 31s/epoch - 1s/step\n",
            "Epoch 37/100\n",
            "25/25 - 31s - loss: 0.1596 - acc: 0.8600 - val_loss: 0.1748 - val_acc: 0.8700 - 31s/epoch - 1s/step\n",
            "Epoch 38/100\n",
            "25/25 - 31s - loss: 0.1676 - acc: 0.8500 - val_loss: 0.2324 - val_acc: 0.7950 - 31s/epoch - 1s/step\n",
            "Epoch 39/100\n",
            "25/25 - 31s - loss: 0.1579 - acc: 0.8675 - val_loss: 0.1539 - val_acc: 0.8600 - 31s/epoch - 1s/step\n",
            "Epoch 40/100\n",
            "25/25 - 35s - loss: 0.1546 - acc: 0.8625 - val_loss: 0.1576 - val_acc: 0.8600 - 35s/epoch - 1s/step\n",
            "Epoch 41/100\n",
            "25/25 - 32s - loss: 0.1386 - acc: 0.8913 - val_loss: 0.1392 - val_acc: 0.8900 - 32s/epoch - 1s/step\n",
            "Epoch 42/100\n",
            "25/25 - 34s - loss: 0.1415 - acc: 0.8763 - val_loss: 0.1743 - val_acc: 0.8450 - 34s/epoch - 1s/step\n",
            "Epoch 43/100\n",
            "25/25 - 33s - loss: 0.1411 - acc: 0.8788 - val_loss: 0.1417 - val_acc: 0.8850 - 33s/epoch - 1s/step\n",
            "Epoch 44/100\n",
            "25/25 - 33s - loss: 0.1582 - acc: 0.8487 - val_loss: 0.1964 - val_acc: 0.8350 - 33s/epoch - 1s/step\n",
            "Epoch 45/100\n",
            "25/25 - 31s - loss: 0.1681 - acc: 0.8425 - val_loss: 0.1506 - val_acc: 0.8700 - 31s/epoch - 1s/step\n",
            "Epoch 46/100\n",
            "25/25 - 31s - loss: 0.1436 - acc: 0.8900 - val_loss: 0.1995 - val_acc: 0.8300 - 31s/epoch - 1s/step\n",
            "Epoch 47/100\n",
            "25/25 - 31s - loss: 0.1733 - acc: 0.8600 - val_loss: 0.1495 - val_acc: 0.8750 - 31s/epoch - 1s/step\n",
            "Epoch 48/100\n",
            "25/25 - 31s - loss: 0.1222 - acc: 0.8975 - val_loss: 0.1405 - val_acc: 0.8750 - 31s/epoch - 1s/step\n",
            "Epoch 49/100\n",
            "25/25 - 32s - loss: 0.1401 - acc: 0.8900 - val_loss: 0.1501 - val_acc: 0.8750 - 32s/epoch - 1s/step\n",
            "Epoch 50/100\n",
            "25/25 - 30s - loss: 0.1293 - acc: 0.8875 - val_loss: 0.1318 - val_acc: 0.8800 - 30s/epoch - 1s/step\n",
            "Epoch 51/100\n",
            "25/25 - 32s - loss: 0.1171 - acc: 0.8925 - val_loss: 0.1562 - val_acc: 0.8800 - 32s/epoch - 1s/step\n",
            "Epoch 52/100\n",
            "25/25 - 33s - loss: 0.1461 - acc: 0.8725 - val_loss: 0.1361 - val_acc: 0.8750 - 33s/epoch - 1s/step\n",
            "Epoch 53/100\n",
            "25/25 - 33s - loss: 0.1294 - acc: 0.9000 - val_loss: 0.1561 - val_acc: 0.8600 - 33s/epoch - 1s/step\n",
            "Epoch 54/100\n",
            "25/25 - 33s - loss: 0.1229 - acc: 0.8988 - val_loss: 0.1391 - val_acc: 0.8750 - 33s/epoch - 1s/step\n",
            "Epoch 55/100\n",
            "25/25 - 32s - loss: 0.1225 - acc: 0.8963 - val_loss: 0.1401 - val_acc: 0.8900 - 32s/epoch - 1s/step\n",
            "Epoch 56/100\n",
            "25/25 - 34s - loss: 0.1204 - acc: 0.8888 - val_loss: 0.1570 - val_acc: 0.8900 - 34s/epoch - 1s/step\n",
            "Epoch 57/100\n",
            "\n",
            "Reached 90.0% accuracy so cancelling training!\n",
            "25/25 - 31s - loss: 0.1138 - acc: 0.9150 - val_loss: 0.1312 - val_acc: 0.9050 - 31s/epoch - 1s/step\n"
          ]
        }
      ],
      "source": [
        "\n",
        "# Train the model\n",
        "callbacks = myCallback()\n",
        "history = model.fit(train_generator,\n",
        "                    epochs=100,\n",
        "                    verbose=2,\n",
        "                    validation_data=validation_generator,\n",
        "                    callbacks=callbacks)"
      ]
    },
    {
      "cell_type": "code",
      "execution_count": null,
      "metadata": {
        "colab": {
          "background_save": true
        },
        "id": "jfFXLxSQ4q7a",
        "outputId": "d77763cf-cef9-4c23-ecb8-b2311826e56e"
      },
      "outputs": [
        {
          "data": {
            "image/png": "[encoded data removed]",
            "text/plain": [
              "<Figure size 640x480 with 1 Axes>"
            ]
          },
          "metadata": {},
          "output_type": "display_data"
        },
        {
          "name": "stdout",
          "output_type": "stream",
          "text": [
            "\n"
          ]
        },
        {
          "data": {
            "image/png": "[encoded data removed]",
            "text/plain": [
              "<Figure size 640x480 with 1 Axes>"
            ]
          },
          "metadata": {},
          "output_type": "display_data"
        }
      ],
      "source": [
        "#-----------------------------------------------------------\n",
        "# Retrieve a list of list results on training and test data\n",
        "# sets for each training epoch\n",
        "#-----------------------------------------------------------\n",
        "acc=history.history['acc']\n",
        "val_acc=history.history['val_acc']\n",
        "loss=history.history['loss']\n",
        "val_loss=history.history['val_loss']\n",
        "\n",
        "epochs=range(len(acc)) # Get number of epochs\n",
        "\n",
        "#------------------------------------------------\n",
        "# Plot training and validation accuracy per epoch\n",
        "#------------------------------------------------\n",
        "plt.plot(epochs, acc, 'r', \"Training Accuracy\")\n",
        "plt.plot(epochs, val_acc, 'b', \"Validation Accuracy\")\n",
        "plt.title('Training and validation accuracy')\n",
        "plt.show()\n",
        "print(\"\")\n",
        "\n",
        "#------------------------------------------------\n",
        "# Plot training and validation loss per epoch\n",
        "#------------------------------------------------\n",
        "plt.plot(epochs, loss, 'r', \"Training Loss\")\n",
        "plt.plot(epochs, val_loss, 'b', \"Validation Loss\")\n",
        "plt.show()"
      ]
    },
    {
      "cell_type": "code",
      "execution_count": null,
      "metadata": {
        "id": "iI2n6JtbRSru"
      },
      "outputs": [],
      "source": [
        "## NOTE: If you are using Safari and this cell throws an error,\n",
        "## please skip this block and run the next one instead.\n",
        "\n",
        "import numpy as np\n",
        "from google.colab import files\n",
        "from tensorflow.keras.utils import load_img, img_to_array\n",
        "\n",
        "uploaded = files.upload()\n",
        "\n",
        "for fn in uploaded.keys():\n",
        "\n",
        "  # predicting images\n",
        "  path = '/content/' + fn\n",
        "  img = load_img(path, target_size=(150, 150))\n",
        "  x = img_to_array(img)\n",
        "  x /= 255\n",
        "  x = np.expand_dims(x, axis=0)\n",
        "\n",
        "  images = np.vstack([x])\n",
        "  classes = model.predict(images, batch_size=10)\n",
        "  #print(classes[0])\n",
        "\n",
        "  classes_normalized = classes*1000\n",
        "\n",
        "  classes_rounded = np.round(classes_normalized)\n",
        "  #print(classes_rounded)\n",
        "\n",
        "  classes_in_level = classes_rounded / 100\n",
        "  #print(classes_in_level)\n",
        "\n",
        "  classes_in_level_rounded = np.ceil(classes_in_level)\n",
        "  classes_in_level_rounded_1d = classes_in_level_rounded.flatten()\n",
        "  #print(classes_in_level_rounded.size)\n",
        "\n",
        "  acnes_level = int(classes_in_level_rounded_1d[0])\n",
        "  blackheads_level = int(classes_in_level_rounded_1d[1])\n",
        "  darkspots_level = int(classes_in_level_rounded_1d[2])\n",
        "  wrinkles_level = int(classes_in_level_rounded_1d[3])\n",
        "\n",
        "  print('Acnes level      : ' + str(acnes_level))\n",
        "  print('Blackheads level : ' + str(blackheads_level))\n",
        "  print('Darkspots level  : ' + str(darkspots_level))\n",
        "  print('Wrinkles level   : ' + str(wrinkles_level))\n",
        "\n",
        "  categories = np.array(['acnes', 'blackheads', 'darkspots', 'wrinkles'])\n",
        "  max_index = np.argmax(classes_in_level_rounded)\n",
        "  max_category = categories[max_index]\n",
        "  print(f\"\\nMost significant skin problem: \" + str(max_category))\n",
        "\n",
        "\n",
        "\n"
      ]
    },
    {
      "cell_type": "code",
      "execution_count": null,
      "metadata": {
        "colab": {
          "background_save": true
        },
        "id": "oT8FrCOrCJYK"
      },
      "outputs": [],
      "source": [
        "\n",
        "# Save the model architecture in JSON format\n",
        "model_json = model.to_json()\n",
        "with open(\"model.json\", \"w\") as json_file:\n",
        "    json_file.write(model_json)\n",
        "\n",
        "# Save the model weights in H5 format\n",
        "model.save(\"skinmate-model.h5\")\n"
      ]
    },
    {
      "cell_type": "code",
      "execution_count": null,
      "metadata": {
        "id": "qSzLWSXXWjAh"
      },
      "outputs": [],
      "source": []
    }
  ],
  "metadata": {
    "colab": {
      "provenance": []
    },
    "kernelspec": {
      "display_name": "Python 3",
      "name": "python3"
    },
    "language_info": {
      "name": "python"
    }
  },
  "nbformat": 4,
  "nbformat_minor": 0
}